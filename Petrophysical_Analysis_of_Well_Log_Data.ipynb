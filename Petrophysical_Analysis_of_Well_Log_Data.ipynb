{
  "nbformat": 4,
  "nbformat_minor": 0,
  "metadata": {
    "colab": {
      "name": "Petrophysical Analysis of Well Log Data.ipynb",
      "provenance": [],
      "collapsed_sections": [],
      "authorship_tag": "ABX9TyO84GBm4vGChHfhWifDt5sx",
      "include_colab_link": true
    },
    "kernelspec": {
      "name": "python3",
      "display_name": "Python 3"
    }
  },
  "cells": [
    {
      "cell_type": "markdown",
      "metadata": {
        "id": "view-in-github",
        "colab_type": "text"
      },
      "source": [
        "<a href=\"https://colab.research.google.com/github/kamalif/Res-Eng/blob/main/Petrophysical_Analysis_of_Well_Log_Data.ipynb\" target=\"_parent\"><img src=\"https://colab.research.google.com/assets/colab-badge.svg\" alt=\"Open In Colab\"/></a>"
      ]
    },
    {
      "cell_type": "code",
      "metadata": {
        "id": "dbMMKPqkbZnm",
        "colab": {
          "base_uri": "https://localhost:8080/"
        },
        "outputId": "555ed6fd-c4bc-428f-a5e2-09ed220f596b"
      },
      "source": [
        "!wget 'https://github.com/kamalif/Res-Eng/blob/main/Dutch_F3_Logs.zip'"
      ],
      "execution_count": 3,
      "outputs": [
        {
          "output_type": "stream",
          "text": [
            "--2021-02-07 12:43:16--  https://github.com/kamalif/Res-Eng/blob/main/Dutch_F3_Logs.zip\n",
            "Resolving github.com (github.com)... 140.82.113.3\n",
            "Connecting to github.com (github.com)|140.82.113.3|:443... connected.\n",
            "HTTP request sent, awaiting response... 200 OK\n",
            "Length: unspecified [text/html]\n",
            "Saving to: ‘Dutch_F3_Logs.zip’\n",
            "\n",
            "Dutch_F3_Logs.zip       [ <=>                ] 440.51K  --.-KB/s    in 0.06s   \n",
            "\n",
            "2021-02-07 12:43:16 (6.70 MB/s) - ‘Dutch_F3_Logs.zip’ saved [451084]\n",
            "\n"
          ],
          "name": "stdout"
        }
      ]
    },
    {
      "cell_type": "code",
      "metadata": {
        "id": "jFTlLBr0TG7O"
      },
      "source": [
        ""
      ],
      "execution_count": null,
      "outputs": []
    }
  ]
}