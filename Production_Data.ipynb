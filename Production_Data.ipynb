{
  "nbformat": 4,
  "nbformat_minor": 0,
  "metadata": {
    "colab": {
      "name": "Production Data.ipynb",
      "provenance": [],
      "authorship_tag": "ABX9TyMEQkuVSLaxNZUQbv92FvL4",
      "include_colab_link": true
    },
    "kernelspec": {
      "name": "python3",
      "display_name": "Python 3"
    }
  },
  "cells": [
    {
      "cell_type": "markdown",
      "metadata": {
        "id": "view-in-github",
        "colab_type": "text"
      },
      "source": [
        "<a href=\"https://colab.research.google.com/github/kamalif/Res-Eng/blob/main/Production_Data.ipynb\" target=\"_parent\"><img src=\"https://colab.research.google.com/assets/colab-badge.svg\" alt=\"Open In Colab\"/></a>"
      ]
    },
    {
      "cell_type": "code",
      "metadata": {
        "id": "ac4z1dsemyrF"
      },
      "source": [
        "import numpy as np\n",
        "import matplotlib.pyplot as plt\n",
        "import pandas as pd"
      ],
      "execution_count": 9,
      "outputs": []
    },
    {
      "cell_type": "code",
      "metadata": {
        "id": "fv0buQXGm4u8"
      },
      "source": [
        "bhp_csv = 'https://github.com/yohanesnuwara/python-bootcamp-for-geoengineers/blob/master/data/BHP%20Data.csv'\n",
        "bhp_data = pd.read_csv(bhp_csv)\n",
        "bhp_data.head(10)"
      ],
      "execution_count": null,
      "outputs": []
    }
  ]
}